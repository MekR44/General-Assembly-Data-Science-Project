{
 "cells": [
  {
   "cell_type": "markdown",
   "metadata": {},
   "source": [
    "# Data Science Course Final Project: *Predicting Wine Quality*"
   ]
  },
  {
   "cell_type": "markdown",
   "metadata": {},
   "source": [
    "<h2>1. Introduction</h2>"
   ]
  },
  {
   "cell_type": "markdown",
   "metadata": {},
   "source": [
    "For my final project, I built a predictive model that could predict the quality of a Vinho Verde wine, a portuguese wine, based on the wine's chemical properties.\n",
    "\n",
    "<p>This data was downloaded from <a href = \"https://archive.ics.uci.edu/ml/datasets/wine+quality\">here</a> and is from the following research: P. Cortez, A. Cerdeira, F. Almeida, T. Matos and J. Reis. Modeling wine preferences by data mining from physicochemical properties. In <em>Decision Support Systems</em>, Elsevier, 47(4): 547-553, 2009. \n",
    "\n",
    "<p>Two separate datasets, one for red wine and one for white wine varieties, were combined to create one larger dataset to have the most training data. This was possible because both datasets had the same features and target column."
   ]
  },
  {
   "cell_type": "markdown",
   "metadata": {},
   "source": [
    "<h2>2. Import Libraries and Set Preliminaries</h2>"
   ]
  },
  {
   "cell_type": "code",
   "execution_count": 1,
   "metadata": {},
   "outputs": [],
   "source": [
    "# Import Libraries\n",
    "\n",
    "import matplotlib.pyplot as plt\n",
    "import numpy as np\n",
    "import seaborn as sns\n",
    "import pandas as pd\n",
    "from sklearn.model_selection import train_test_split, cross_val_score, KFold, GridSearchCV\n",
    "from sklearn.ensemble import RandomForestClassifier\n",
    "from sklearn import metrics"
   ]
  },
  {
   "cell_type": "code",
   "execution_count": 2,
   "metadata": {},
   "outputs": [],
   "source": [
    "# Specify seaborn style to use for plots/graphs\n",
    "sns.set_style(\"darkgrid\") \n",
    "\n",
    "# Show plots in-line\n",
    "%matplotlib inline"
   ]
  },
  {
   "cell_type": "code",
   "execution_count": 3,
   "metadata": {},
   "outputs": [],
   "source": [
    "# Suppress warnings to prevent sklearn warnings from showing up\n",
    "\n",
    "from warnings import simplefilter                        # import warnings filter\n",
    "simplefilter(action='ignore')                            # set filter to ignore all warnings"
   ]
  },
  {
   "cell_type": "markdown",
   "metadata": {},
   "source": [
    "<h2>3. Load Data</h2>"
   ]
  },
  {
   "cell_type": "code",
   "execution_count": 4,
   "metadata": {},
   "outputs": [],
   "source": [
    "# Load Red Wine and White Wine Datasets\n",
    "\n",
    "df_red = pd.read_csv(\"Data/winequality/winequality-red.csv\", sep=';')\n",
    "df_white = pd.read_csv(\"Data/winequality/winequality-white.csv\", sep=';')"
   ]
  },
  {
   "cell_type": "code",
   "execution_count": 5,
   "metadata": {},
   "outputs": [],
   "source": [
    "# Concatenate them into a third dataframe\n",
    "\n",
    "df_all = pd.concat([df_red, df_white])"
   ]
  },
  {
   "cell_type": "code",
   "execution_count": 6,
   "metadata": {},
   "outputs": [
    {
     "name": "stdout",
     "output_type": "stream",
     "text": [
      "(1599, 12)\n",
      "(4898, 12)\n"
     ]
    },
    {
     "data": {
      "text/plain": [
       "(6497, 12)"
      ]
     },
     "execution_count": 6,
     "metadata": {},
     "output_type": "execute_result"
    }
   ],
   "source": [
    "# Ensure concatenation occurred correctly by looking at number of rows in all three dfs; they add up correctly\n",
    "\n",
    "print(df_red.shape)\n",
    "print(df_white.shape)\n",
    "df_all.shape"
   ]
  },
  {
   "cell_type": "markdown",
   "metadata": {},
   "source": [
    "<h2>4. Exploratory Data Analysis</h2>"
   ]
  },
  {
   "cell_type": "code",
   "execution_count": 7,
   "metadata": {},
   "outputs": [
    {
     "data": {
      "text/html": [
       "<div>\n",
       "<style scoped>\n",
       "    .dataframe tbody tr th:only-of-type {\n",
       "        vertical-align: middle;\n",
       "    }\n",
       "\n",
       "    .dataframe tbody tr th {\n",
       "        vertical-align: top;\n",
       "    }\n",
       "\n",
       "    .dataframe thead th {\n",
       "        text-align: right;\n",
       "    }\n",
       "</style>\n",
       "<table border=\"1\" class=\"dataframe\">\n",
       "  <thead>\n",
       "    <tr style=\"text-align: right;\">\n",
       "      <th></th>\n",
       "      <th>fixed acidity</th>\n",
       "      <th>volatile acidity</th>\n",
       "      <th>citric acid</th>\n",
       "      <th>residual sugar</th>\n",
       "      <th>chlorides</th>\n",
       "      <th>free sulfur dioxide</th>\n",
       "      <th>total sulfur dioxide</th>\n",
       "      <th>density</th>\n",
       "      <th>pH</th>\n",
       "      <th>sulphates</th>\n",
       "      <th>alcohol</th>\n",
       "      <th>quality</th>\n",
       "    </tr>\n",
       "  </thead>\n",
       "  <tbody>\n",
       "    <tr>\n",
       "      <th>0</th>\n",
       "      <td>7.4</td>\n",
       "      <td>0.70</td>\n",
       "      <td>0.00</td>\n",
       "      <td>1.9</td>\n",
       "      <td>0.076</td>\n",
       "      <td>11.0</td>\n",
       "      <td>34.0</td>\n",
       "      <td>0.9978</td>\n",
       "      <td>3.51</td>\n",
       "      <td>0.56</td>\n",
       "      <td>9.4</td>\n",
       "      <td>5</td>\n",
       "    </tr>\n",
       "    <tr>\n",
       "      <th>1</th>\n",
       "      <td>7.8</td>\n",
       "      <td>0.88</td>\n",
       "      <td>0.00</td>\n",
       "      <td>2.6</td>\n",
       "      <td>0.098</td>\n",
       "      <td>25.0</td>\n",
       "      <td>67.0</td>\n",
       "      <td>0.9968</td>\n",
       "      <td>3.20</td>\n",
       "      <td>0.68</td>\n",
       "      <td>9.8</td>\n",
       "      <td>5</td>\n",
       "    </tr>\n",
       "    <tr>\n",
       "      <th>2</th>\n",
       "      <td>7.8</td>\n",
       "      <td>0.76</td>\n",
       "      <td>0.04</td>\n",
       "      <td>2.3</td>\n",
       "      <td>0.092</td>\n",
       "      <td>15.0</td>\n",
       "      <td>54.0</td>\n",
       "      <td>0.9970</td>\n",
       "      <td>3.26</td>\n",
       "      <td>0.65</td>\n",
       "      <td>9.8</td>\n",
       "      <td>5</td>\n",
       "    </tr>\n",
       "    <tr>\n",
       "      <th>3</th>\n",
       "      <td>11.2</td>\n",
       "      <td>0.28</td>\n",
       "      <td>0.56</td>\n",
       "      <td>1.9</td>\n",
       "      <td>0.075</td>\n",
       "      <td>17.0</td>\n",
       "      <td>60.0</td>\n",
       "      <td>0.9980</td>\n",
       "      <td>3.16</td>\n",
       "      <td>0.58</td>\n",
       "      <td>9.8</td>\n",
       "      <td>6</td>\n",
       "    </tr>\n",
       "    <tr>\n",
       "      <th>4</th>\n",
       "      <td>7.4</td>\n",
       "      <td>0.70</td>\n",
       "      <td>0.00</td>\n",
       "      <td>1.9</td>\n",
       "      <td>0.076</td>\n",
       "      <td>11.0</td>\n",
       "      <td>34.0</td>\n",
       "      <td>0.9978</td>\n",
       "      <td>3.51</td>\n",
       "      <td>0.56</td>\n",
       "      <td>9.4</td>\n",
       "      <td>5</td>\n",
       "    </tr>\n",
       "  </tbody>\n",
       "</table>\n",
       "</div>"
      ],
      "text/plain": [
       "   fixed acidity  volatile acidity  citric acid  residual sugar  chlorides  \\\n",
       "0            7.4              0.70         0.00             1.9      0.076   \n",
       "1            7.8              0.88         0.00             2.6      0.098   \n",
       "2            7.8              0.76         0.04             2.3      0.092   \n",
       "3           11.2              0.28         0.56             1.9      0.075   \n",
       "4            7.4              0.70         0.00             1.9      0.076   \n",
       "\n",
       "   free sulfur dioxide  total sulfur dioxide  density    pH  sulphates  \\\n",
       "0                 11.0                  34.0   0.9978  3.51       0.56   \n",
       "1                 25.0                  67.0   0.9968  3.20       0.68   \n",
       "2                 15.0                  54.0   0.9970  3.26       0.65   \n",
       "3                 17.0                  60.0   0.9980  3.16       0.58   \n",
       "4                 11.0                  34.0   0.9978  3.51       0.56   \n",
       "\n",
       "   alcohol  quality  \n",
       "0      9.4        5  \n",
       "1      9.8        5  \n",
       "2      9.8        5  \n",
       "3      9.8        6  \n",
       "4      9.4        5  "
      ]
     },
     "execution_count": 7,
     "metadata": {},
     "output_type": "execute_result"
    }
   ],
   "source": [
    "# Take a quick first look at data\n",
    "\n",
    "df_all.head()"
   ]
  },
  {
   "cell_type": "code",
   "execution_count": 8,
   "metadata": {},
   "outputs": [
    {
     "name": "stdout",
     "output_type": "stream",
     "text": [
      "<class 'pandas.core.frame.DataFrame'>\n",
      "Int64Index: 6497 entries, 0 to 4897\n",
      "Data columns (total 12 columns):\n",
      "fixed acidity           6497 non-null float64\n",
      "volatile acidity        6497 non-null float64\n",
      "citric acid             6497 non-null float64\n",
      "residual sugar          6497 non-null float64\n",
      "chlorides               6497 non-null float64\n",
      "free sulfur dioxide     6497 non-null float64\n",
      "total sulfur dioxide    6497 non-null float64\n",
      "density                 6497 non-null float64\n",
      "pH                      6497 non-null float64\n",
      "sulphates               6497 non-null float64\n",
      "alcohol                 6497 non-null float64\n",
      "quality                 6497 non-null int64\n",
      "dtypes: float64(11), int64(1)\n",
      "memory usage: 659.9 KB\n"
     ]
    }
   ],
   "source": [
    "# Look at data types of data\n",
    "\n",
    "df_all.info()"
   ]
  },
  {
   "cell_type": "code",
   "execution_count": 9,
   "metadata": {},
   "outputs": [
    {
     "data": {
      "text/html": [
       "<div>\n",
       "<style scoped>\n",
       "    .dataframe tbody tr th:only-of-type {\n",
       "        vertical-align: middle;\n",
       "    }\n",
       "\n",
       "    .dataframe tbody tr th {\n",
       "        vertical-align: top;\n",
       "    }\n",
       "\n",
       "    .dataframe thead th {\n",
       "        text-align: right;\n",
       "    }\n",
       "</style>\n",
       "<table border=\"1\" class=\"dataframe\">\n",
       "  <thead>\n",
       "    <tr style=\"text-align: right;\">\n",
       "      <th></th>\n",
       "      <th>fixed acidity</th>\n",
       "      <th>volatile acidity</th>\n",
       "      <th>citric acid</th>\n",
       "      <th>residual sugar</th>\n",
       "      <th>chlorides</th>\n",
       "      <th>free sulfur dioxide</th>\n",
       "      <th>total sulfur dioxide</th>\n",
       "      <th>density</th>\n",
       "      <th>pH</th>\n",
       "      <th>sulphates</th>\n",
       "      <th>alcohol</th>\n",
       "      <th>quality</th>\n",
       "    </tr>\n",
       "  </thead>\n",
       "  <tbody>\n",
       "    <tr>\n",
       "      <th>count</th>\n",
       "      <td>6497.000000</td>\n",
       "      <td>6497.000000</td>\n",
       "      <td>6497.000000</td>\n",
       "      <td>6497.000000</td>\n",
       "      <td>6497.000000</td>\n",
       "      <td>6497.000000</td>\n",
       "      <td>6497.000000</td>\n",
       "      <td>6497.000000</td>\n",
       "      <td>6497.000000</td>\n",
       "      <td>6497.000000</td>\n",
       "      <td>6497.000000</td>\n",
       "      <td>6497.000000</td>\n",
       "    </tr>\n",
       "    <tr>\n",
       "      <th>mean</th>\n",
       "      <td>7.215307</td>\n",
       "      <td>0.339666</td>\n",
       "      <td>0.318633</td>\n",
       "      <td>5.443235</td>\n",
       "      <td>0.056034</td>\n",
       "      <td>30.525319</td>\n",
       "      <td>115.744574</td>\n",
       "      <td>0.994697</td>\n",
       "      <td>3.218501</td>\n",
       "      <td>0.531268</td>\n",
       "      <td>10.491801</td>\n",
       "      <td>5.818378</td>\n",
       "    </tr>\n",
       "    <tr>\n",
       "      <th>std</th>\n",
       "      <td>1.296434</td>\n",
       "      <td>0.164636</td>\n",
       "      <td>0.145318</td>\n",
       "      <td>4.757804</td>\n",
       "      <td>0.035034</td>\n",
       "      <td>17.749400</td>\n",
       "      <td>56.521855</td>\n",
       "      <td>0.002999</td>\n",
       "      <td>0.160787</td>\n",
       "      <td>0.148806</td>\n",
       "      <td>1.192712</td>\n",
       "      <td>0.873255</td>\n",
       "    </tr>\n",
       "    <tr>\n",
       "      <th>min</th>\n",
       "      <td>3.800000</td>\n",
       "      <td>0.080000</td>\n",
       "      <td>0.000000</td>\n",
       "      <td>0.600000</td>\n",
       "      <td>0.009000</td>\n",
       "      <td>1.000000</td>\n",
       "      <td>6.000000</td>\n",
       "      <td>0.987110</td>\n",
       "      <td>2.720000</td>\n",
       "      <td>0.220000</td>\n",
       "      <td>8.000000</td>\n",
       "      <td>3.000000</td>\n",
       "    </tr>\n",
       "    <tr>\n",
       "      <th>25%</th>\n",
       "      <td>6.400000</td>\n",
       "      <td>0.230000</td>\n",
       "      <td>0.250000</td>\n",
       "      <td>1.800000</td>\n",
       "      <td>0.038000</td>\n",
       "      <td>17.000000</td>\n",
       "      <td>77.000000</td>\n",
       "      <td>0.992340</td>\n",
       "      <td>3.110000</td>\n",
       "      <td>0.430000</td>\n",
       "      <td>9.500000</td>\n",
       "      <td>5.000000</td>\n",
       "    </tr>\n",
       "    <tr>\n",
       "      <th>50%</th>\n",
       "      <td>7.000000</td>\n",
       "      <td>0.290000</td>\n",
       "      <td>0.310000</td>\n",
       "      <td>3.000000</td>\n",
       "      <td>0.047000</td>\n",
       "      <td>29.000000</td>\n",
       "      <td>118.000000</td>\n",
       "      <td>0.994890</td>\n",
       "      <td>3.210000</td>\n",
       "      <td>0.510000</td>\n",
       "      <td>10.300000</td>\n",
       "      <td>6.000000</td>\n",
       "    </tr>\n",
       "    <tr>\n",
       "      <th>75%</th>\n",
       "      <td>7.700000</td>\n",
       "      <td>0.400000</td>\n",
       "      <td>0.390000</td>\n",
       "      <td>8.100000</td>\n",
       "      <td>0.065000</td>\n",
       "      <td>41.000000</td>\n",
       "      <td>156.000000</td>\n",
       "      <td>0.996990</td>\n",
       "      <td>3.320000</td>\n",
       "      <td>0.600000</td>\n",
       "      <td>11.300000</td>\n",
       "      <td>6.000000</td>\n",
       "    </tr>\n",
       "    <tr>\n",
       "      <th>max</th>\n",
       "      <td>15.900000</td>\n",
       "      <td>1.580000</td>\n",
       "      <td>1.660000</td>\n",
       "      <td>65.800000</td>\n",
       "      <td>0.611000</td>\n",
       "      <td>289.000000</td>\n",
       "      <td>440.000000</td>\n",
       "      <td>1.038980</td>\n",
       "      <td>4.010000</td>\n",
       "      <td>2.000000</td>\n",
       "      <td>14.900000</td>\n",
       "      <td>9.000000</td>\n",
       "    </tr>\n",
       "  </tbody>\n",
       "</table>\n",
       "</div>"
      ],
      "text/plain": [
       "       fixed acidity  volatile acidity  citric acid  residual sugar  \\\n",
       "count    6497.000000       6497.000000  6497.000000     6497.000000   \n",
       "mean        7.215307          0.339666     0.318633        5.443235   \n",
       "std         1.296434          0.164636     0.145318        4.757804   \n",
       "min         3.800000          0.080000     0.000000        0.600000   \n",
       "25%         6.400000          0.230000     0.250000        1.800000   \n",
       "50%         7.000000          0.290000     0.310000        3.000000   \n",
       "75%         7.700000          0.400000     0.390000        8.100000   \n",
       "max        15.900000          1.580000     1.660000       65.800000   \n",
       "\n",
       "         chlorides  free sulfur dioxide  total sulfur dioxide      density  \\\n",
       "count  6497.000000          6497.000000           6497.000000  6497.000000   \n",
       "mean      0.056034            30.525319            115.744574     0.994697   \n",
       "std       0.035034            17.749400             56.521855     0.002999   \n",
       "min       0.009000             1.000000              6.000000     0.987110   \n",
       "25%       0.038000            17.000000             77.000000     0.992340   \n",
       "50%       0.047000            29.000000            118.000000     0.994890   \n",
       "75%       0.065000            41.000000            156.000000     0.996990   \n",
       "max       0.611000           289.000000            440.000000     1.038980   \n",
       "\n",
       "                pH    sulphates      alcohol      quality  \n",
       "count  6497.000000  6497.000000  6497.000000  6497.000000  \n",
       "mean      3.218501     0.531268    10.491801     5.818378  \n",
       "std       0.160787     0.148806     1.192712     0.873255  \n",
       "min       2.720000     0.220000     8.000000     3.000000  \n",
       "25%       3.110000     0.430000     9.500000     5.000000  \n",
       "50%       3.210000     0.510000    10.300000     6.000000  \n",
       "75%       3.320000     0.600000    11.300000     6.000000  \n",
       "max       4.010000     2.000000    14.900000     9.000000  "
      ]
     },
     "execution_count": 9,
     "metadata": {},
     "output_type": "execute_result"
    }
   ],
   "source": [
    "df_all.describe()"
   ]
  },
  {
   "cell_type": "markdown",
   "metadata": {},
   "source": [
    "<hr>\n",
    "<strong>Observations:</strong>\n",
    "<ul>\n",
    "    <li>All data types are numeric, so I won't need to create any dummy variables.</li>\n",
    "    <li>None of the columns have missing data or null values.</li>\n",
    "    <li>Quality scores go from a low of 3 to a high of 9 in this particular dataset.\n",
    "</ul>\n",
    "<hr>"
   ]
  },
  {
   "cell_type": "code",
   "execution_count": 10,
   "metadata": {},
   "outputs": [
    {
     "data": {
      "image/png": "[encoded data removed]",
      "text/plain": [
       "<Figure size 864x864 with 12 Axes>"
      ]
     },
     "metadata": {
      "needs_background": "light"
     },
     "output_type": "display_data"
    }
   ],
   "source": [
    "# Visualize distributions of each column\n",
    "\n",
    "ax = df_all.hist(figsize=(12,12), bins = 25)"
   ]
  },
  {
   "cell_type": "markdown",
   "metadata": {},
   "source": [
    "<hr>\n",
    "<strong>Observations:</strong>\n",
    "<ul>\n",
    "    <li>Several variables seem to have a somewhat normal distribution (alcohol, citric acid, density, fixed acidity, pH, sulphates, and potentially sulfur dioxide).</li>\n",
    "    <li>The quality score is a discrete/categorical variable.</li>\n",
    "</ul>\n",
    "<hr>"
   ]
  },
  {
   "cell_type": "code",
   "execution_count": 11,
   "metadata": {},
   "outputs": [
    {
     "data": {
      "image/png": "[encoded data removed]",
      "text/plain": [
       "<Figure size 864x864 with 2 Axes>"
      ]
     },
     "metadata": {
      "needs_background": "light"
     },
     "output_type": "display_data"
    }
   ],
   "source": [
    "# Create an annotated heatmap to visualize the correlation relationships between variables\n",
    "\n",
    "fig, ax2 = plt.subplots(figsize=(12,12))         \n",
    "sns.heatmap(df_all.corr(), center=0, cmap=\"PiYG\", annot = True, ax = ax2);"
   ]
  },
  {
   "cell_type": "markdown",
   "metadata": {},
   "source": [
    "<hr>\n",
    "<strong>Observations:</strong>\n",
    "<ul>\n",
    "    <li>Alcohol has a positive correlation with the quality score variable but it is a weak correlation. None of the other variables seem to be linearly correlated with quality score.</li>\n",
    "    <li>There is a moderate negative correlation between density and alcohol.</li>\n",
    "    <li>There is a weak to moderate positive correlation between density and residual sugar.</li> \n",
    "    <li>Residual sugar seems to have a weak positive correlation with total and free sulfur dioxide.</li>\n",
    "    <li>Density and fixed acidity have a very weak positive correlation.</li>\n",
    "\n",
    "</ul>\n",
    "<hr>"
   ]
  },
  {
   "cell_type": "markdown",
   "metadata": {},
   "source": [
    "<h2>5. Predictive Modeling</h2>"
   ]
  },
  {
   "cell_type": "markdown",
   "metadata": {},
   "source": [
    "<h4>5.1 Initial Random Forest Classifier Model</h4>"
   ]
  },
  {
   "cell_type": "markdown",
   "metadata": {},
   "source": [
    "<strong>5.1.1 Building The Model:</strong>"
   ]
  },
  {
   "cell_type": "code",
   "execution_count": 12,
   "metadata": {},
   "outputs": [],
   "source": [
    "# Splitting columns into target and features\n",
    "target_col = 'quality'\n",
    "feature_cols = df_all.columns.drop('quality')\n",
    "\n",
    "# Creating a dataframe of features (X) and a series of target values (y)\n",
    "X = df_all.loc[:,feature_cols]\n",
    "y = df_all.loc[:,target_col]\n",
    "\n",
    "# Splitting both target and features data into a train test split; setting a random_state to allow comparisons with future train_test_splits\n",
    "# Data will be shuffled to prevent any issues from the fact that red wine data is concentrated at the top of the df and vice-versa\n",
    "X_train, X_test, y_train, y_test = train_test_split(X, y, random_state = 2, shuffle = True)"
   ]
  },
  {
   "cell_type": "code",
   "execution_count": 13,
   "metadata": {},
   "outputs": [
    {
     "name": "stdout",
     "output_type": "stream",
     "text": [
      "Training Data Accuracy: 0.9848111658456487\n",
      "Test Data Accuracy: 0.64\n",
      "Out of Bag Score: 0.5950328407224958\n"
     ]
    }
   ],
   "source": [
    "# Creating a Random Forest Classifier model instance and fitting the training data to it\n",
    "rfc = RandomForestClassifier(oob_score = True)\n",
    "rfc.fit(X_train, y_train)\n",
    "\n",
    "# Evaluating the model \n",
    "print('Training Data Accuracy:', rfc.score(X_train, y_train)) # Training Data Accuracy Score\n",
    "print('Test Data Accuracy:', rfc.score(X_test, y_test))       # Test Data Accuracy Score\n",
    "\n",
    "print('Out of Bag Score:', rfc.oob_score_)"
   ]
  },
  {
   "cell_type": "markdown",
   "metadata": {},
   "source": [
    "<hr>\n",
    "<strong>Observation:</strong> The model has very low bias (98% accuracy on the training set) but has high variance/is overfitting (big gap between train and test set accuracy scores).\n",
    "<hr>"
   ]
  },
  {
   "cell_type": "markdown",
   "metadata": {},
   "source": [
    "<strong>5.1.2 KFold Cross-Validation:</strong>"
   ]
  },
  {
   "cell_type": "code",
   "execution_count": 14,
   "metadata": {},
   "outputs": [
    {
     "name": "stdout",
     "output_type": "stream",
     "text": [
      "Cross-Validation With 10-Fold Split Scores: [0.64       0.65846154 0.68       0.66923077 0.69692308 0.65076923\n",
      " 0.65846154 0.68567026 0.68567026 0.66101695]\n",
      "Cross-Validation With 10-Fold Split Average Score: 0.6686203626881594\n"
     ]
    }
   ],
   "source": [
    "# Using a 10-Fold cross-validation method instead of the above train-test-split to confirm high variance\n",
    "\n",
    "kf = KFold(n_splits=10, shuffle=True)\n",
    "\n",
    "scores = cross_val_score(rfc, X, y, cv = kf)\n",
    "print('Cross-Validation With 10-Fold Split Scores:', scores)\n",
    "print('Cross-Validation With 10-Fold Split Average Score:', scores.mean())"
   ]
  },
  {
   "cell_type": "markdown",
   "metadata": {},
   "source": [
    "<hr>\n",
    "<strong>Observation:</strong> The KFold cross-validation shows a slightly higher average accuracy than the train-test-split accuracy score. I will monitor both scores as I tune the model.\n",
    "<hr>"
   ]
  },
  {
   "cell_type": "markdown",
   "metadata": {},
   "source": [
    "<strong>5.1.3 Compare To Null Model:</strong>"
   ]
  },
  {
   "cell_type": "code",
   "execution_count": 15,
   "metadata": {},
   "outputs": [
    {
     "data": {
      "text/plain": [
       "6    0.436509\n",
       "5    0.329075\n",
       "7    0.166077\n",
       "4    0.033246\n",
       "8    0.029706\n",
       "3    0.004618\n",
       "9    0.000770\n",
       "Name: quality, dtype: float64"
      ]
     },
     "execution_count": 15,
     "metadata": {},
     "output_type": "execute_result"
    }
   ],
   "source": [
    "# Null Model Accuracy for Entire Dataset\n",
    "\n",
    "df_all.loc[:,'quality'].value_counts(normalize=True)"
   ]
  },
  {
   "cell_type": "code",
   "execution_count": 16,
   "metadata": {},
   "outputs": [
    {
     "data": {
      "text/plain": [
       "6    0.440615\n",
       "5    0.324308\n",
       "7    0.169846\n",
       "8    0.030154\n",
       "4    0.029538\n",
       "3    0.004923\n",
       "9    0.000615\n",
       "Name: quality, dtype: float64"
      ]
     },
     "execution_count": 16,
     "metadata": {},
     "output_type": "execute_result"
    }
   ],
   "source": [
    "# Null Model Accuracy for test set\n",
    "\n",
    "y_test.value_counts(normalize=True)"
   ]
  },
  {
   "cell_type": "markdown",
   "metadata": {},
   "source": [
    "<hr>\n",
    "<strong>Observation:</strong> The initial model is performing better than the null model, which would have only 43 to 44% accuracy.\n",
    "<hr>"
   ]
  },
  {
   "cell_type": "markdown",
   "metadata": {},
   "source": [
    "<h4>5.2 Optimizing N_Estimators</h4>"
   ]
  },
  {
   "cell_type": "code",
   "execution_count": 17,
   "metadata": {},
   "outputs": [],
   "source": [
    "# Defining a function that will return the train and test set score for the specified n_estimator value\n",
    "\n",
    "def n_estimator_score (n_estimator_num):\n",
    "    rfc2 = RandomForestClassifier(n_estimators = n_estimator_num)                            \n",
    "    rfc2.fit(X_train, y_train)                                             \n",
    "    return rfc2.score(X_train, y_train), rfc2.score(X_test, y_test)"
   ]
  },
  {
   "cell_type": "code",
   "execution_count": 18,
   "metadata": {},
   "outputs": [
    {
     "data": {
      "text/html": [
       "<div>\n",
       "<style scoped>\n",
       "    .dataframe tbody tr th:only-of-type {\n",
       "        vertical-align: middle;\n",
       "    }\n",
       "\n",
       "    .dataframe tbody tr th {\n",
       "        vertical-align: top;\n",
       "    }\n",
       "\n",
       "    .dataframe thead th {\n",
       "        text-align: right;\n",
       "    }\n",
       "</style>\n",
       "<table border=\"1\" class=\"dataframe\">\n",
       "  <thead>\n",
       "    <tr style=\"text-align: right;\">\n",
       "      <th></th>\n",
       "      <th>Train Set Scores</th>\n",
       "      <th>Test Set Scores</th>\n",
       "    </tr>\n",
       "    <tr>\n",
       "      <th>N_Estimator Number</th>\n",
       "      <th></th>\n",
       "      <th></th>\n",
       "    </tr>\n",
       "  </thead>\n",
       "  <tbody>\n",
       "    <tr>\n",
       "      <th>1</th>\n",
       "      <td>0.836617</td>\n",
       "      <td>0.548923</td>\n",
       "    </tr>\n",
       "    <tr>\n",
       "      <th>51</th>\n",
       "      <td>1.000000</td>\n",
       "      <td>0.681231</td>\n",
       "    </tr>\n",
       "    <tr>\n",
       "      <th>101</th>\n",
       "      <td>1.000000</td>\n",
       "      <td>0.678769</td>\n",
       "    </tr>\n",
       "    <tr>\n",
       "      <th>151</th>\n",
       "      <td>1.000000</td>\n",
       "      <td>0.681231</td>\n",
       "    </tr>\n",
       "    <tr>\n",
       "      <th>201</th>\n",
       "      <td>1.000000</td>\n",
       "      <td>0.674462</td>\n",
       "    </tr>\n",
       "    <tr>\n",
       "      <th>251</th>\n",
       "      <td>1.000000</td>\n",
       "      <td>0.683692</td>\n",
       "    </tr>\n",
       "    <tr>\n",
       "      <th>301</th>\n",
       "      <td>1.000000</td>\n",
       "      <td>0.682462</td>\n",
       "    </tr>\n",
       "    <tr>\n",
       "      <th>351</th>\n",
       "      <td>1.000000</td>\n",
       "      <td>0.676308</td>\n",
       "    </tr>\n",
       "    <tr>\n",
       "      <th>401</th>\n",
       "      <td>1.000000</td>\n",
       "      <td>0.682462</td>\n",
       "    </tr>\n",
       "    <tr>\n",
       "      <th>451</th>\n",
       "      <td>1.000000</td>\n",
       "      <td>0.683077</td>\n",
       "    </tr>\n",
       "    <tr>\n",
       "      <th>501</th>\n",
       "      <td>1.000000</td>\n",
       "      <td>0.675692</td>\n",
       "    </tr>\n",
       "    <tr>\n",
       "      <th>551</th>\n",
       "      <td>1.000000</td>\n",
       "      <td>0.681846</td>\n",
       "    </tr>\n",
       "    <tr>\n",
       "      <th>601</th>\n",
       "      <td>1.000000</td>\n",
       "      <td>0.677538</td>\n",
       "    </tr>\n",
       "    <tr>\n",
       "      <th>651</th>\n",
       "      <td>1.000000</td>\n",
       "      <td>0.684923</td>\n",
       "    </tr>\n",
       "    <tr>\n",
       "      <th>701</th>\n",
       "      <td>1.000000</td>\n",
       "      <td>0.681231</td>\n",
       "    </tr>\n",
       "    <tr>\n",
       "      <th>751</th>\n",
       "      <td>1.000000</td>\n",
       "      <td>0.680615</td>\n",
       "    </tr>\n",
       "    <tr>\n",
       "      <th>801</th>\n",
       "      <td>1.000000</td>\n",
       "      <td>0.681231</td>\n",
       "    </tr>\n",
       "    <tr>\n",
       "      <th>851</th>\n",
       "      <td>1.000000</td>\n",
       "      <td>0.677538</td>\n",
       "    </tr>\n",
       "    <tr>\n",
       "      <th>901</th>\n",
       "      <td>1.000000</td>\n",
       "      <td>0.678769</td>\n",
       "    </tr>\n",
       "    <tr>\n",
       "      <th>951</th>\n",
       "      <td>1.000000</td>\n",
       "      <td>0.679385</td>\n",
       "    </tr>\n",
       "  </tbody>\n",
       "</table>\n",
       "</div>"
      ],
      "text/plain": [
       "                    Train Set Scores  Test Set Scores\n",
       "N_Estimator Number                                   \n",
       "1                           0.836617         0.548923\n",
       "51                          1.000000         0.681231\n",
       "101                         1.000000         0.678769\n",
       "151                         1.000000         0.681231\n",
       "201                         1.000000         0.674462\n",
       "251                         1.000000         0.683692\n",
       "301                         1.000000         0.682462\n",
       "351                         1.000000         0.676308\n",
       "401                         1.000000         0.682462\n",
       "451                         1.000000         0.683077\n",
       "501                         1.000000         0.675692\n",
       "551                         1.000000         0.681846\n",
       "601                         1.000000         0.677538\n",
       "651                         1.000000         0.684923\n",
       "701                         1.000000         0.681231\n",
       "751                         1.000000         0.680615\n",
       "801                         1.000000         0.681231\n",
       "851                         1.000000         0.677538\n",
       "901                         1.000000         0.678769\n",
       "951                         1.000000         0.679385"
      ]
     },
     "execution_count": 18,
     "metadata": {},
     "output_type": "execute_result"
    }
   ],
   "source": [
    "# Creating 3 lists to hold the n_estimators number that was checked, the train set score, and the test set score\n",
    "n_estimator_nums = []\n",
    "n_estimator_scores_train = []\n",
    "n_estimator_scores_test = []\n",
    "\n",
    "# Creating a for-loop that will check and collect train and test set scores for the specified range of n_estimators\n",
    "for num in range(1,1000,50):                # checking a range of 100 to 1000 n_estimators at 50-tree intervals\n",
    "    n_estimator_nums.append(num)            # creating a list of n_estimator values that were checked\n",
    "    tr, ts = n_estimator_score(num)         # calling the previously defined n_estimator_score function\n",
    "    n_estimator_scores_train.append(tr)     # creating a list of train scores for each n_estimator value\n",
    "    n_estimator_scores_test.append(ts)      # creating a list of test scores for each n_estimator value\n",
    "    \n",
    "# Combining the three lists into a DataFrame for easier viewing; setting the N_Estimator Number column as the index for the df\n",
    "df = pd.DataFrame({'N_Estimator Number':n_estimator_nums, 'Train Set Scores': n_estimator_scores_train, 'Test Set Scores': n_estimator_scores_test})\n",
    "df.set_index ('N_Estimator Number', inplace = True)      \n",
    "\n",
    "# Displaying df\n",
    "df"
   ]
  },
  {
   "cell_type": "markdown",
   "metadata": {},
   "source": [
    "<hr>\n",
    "<strong>Observation:</strong> As long as the n_estimators parameter is set to 100 or above, the test scores seem to hover around 67% to 68% (while training scores are at approximately 100%). This is a slight improvement in both train and test scores from the default n_estimators value of the model though it doesn't seem to indicate much of an improvement on the variance/overfitting. I will set the n_estimators to 100 in further tuning the model. \n",
    "<hr>"
   ]
  },
  {
   "cell_type": "markdown",
   "metadata": {},
   "source": [
    "<h4>5.3 Tuning Other Random Forest Classifier Model Parameters</h4>"
   ]
  },
  {
   "cell_type": "markdown",
   "metadata": {},
   "source": [
    "Since the training score is now at 100%, the goal in tuning parameters now is to reduce variance and overfitting by reducing the gap in train and test scores. Consequently, I need to make the model more restrictive. I will start by using a GridSearchCV to test varying combinations of parameters to maximize the test score."
   ]
  },
  {
   "cell_type": "code",
   "execution_count": 33,
   "metadata": {},
   "outputs": [],
   "source": [
    "# Creating and using a GridSearchCV object to check multiple parameter combinations at once; n_estimators is fixed at 100\n",
    "\n",
    "rfc3 = RandomForestClassifier (n_estimators = 100)              # instantiating a basic random forest classifier to use in gridsearch\n",
    "\n",
    "parameters = {'max_features':np.arange(1,12),                   # specifying the parameters to test\n",
    "              'min_samples_leaf': [1,10,50,100], \n",
    "              'max_depth': np.arange(50,150,10)\n",
    "              }\n",
    "\n",
    "param_optimizer_grid = GridSearchCV(rfc3, parameters, cv = kf)  # creating a GridSearchCV object that can be fitted to the data"
   ]
  },
  {
   "cell_type": "code",
   "execution_count": null,
   "metadata": {},
   "outputs": [],
   "source": [
    "# Fitting the GridSearchCV object to the training data \n",
    "# [UNCOMMENT THE BELOW TO RUN--TAKES A LONG TIME TO RUN]\n",
    "# param_optimizer_grid.fit(X_train, y_train)"
   ]
  },
  {
   "cell_type": "code",
   "execution_count": null,
   "metadata": {},
   "outputs": [],
   "source": [
    "# Viewing the best parameter values from the tuning\n",
    "# [UNCOMMENT THE BELOW TO RUN]\n",
    "# param_optimizer_grid.best_params_"
   ]
  },
  {
   "cell_type": "code",
   "execution_count": 35,
   "metadata": {},
   "outputs": [
    {
     "name": "stdout",
     "output_type": "stream",
     "text": [
      "Training Data: 1.0\n",
      "Test Data: 0.6744615384615384\n",
      "Out of Bag Score: 0.6798029556650246\n",
      "Cross-Validation With 10-Fold Split Scores: [0.67230769 0.68769231 0.66769231 0.68769231 0.71692308 0.72769231\n",
      " 0.70615385 0.7257319  0.7164869  0.69953775]\n",
      "Cross-Validation With 10-Fold Split Average Score: 0.7007910394690056\n"
     ]
    }
   ],
   "source": [
    "# Creating a Random Forest Classifier model instance using the best_params parameters and fitting the training data to it\n",
    "rfc4 = RandomForestClassifier(n_estimators = 100, max_features = 1, min_samples_leaf = 1, max_depth = 140, oob_score = True)\n",
    "rfc4.fit(X_train, y_train)\n",
    "\n",
    "# Evaluating the model \n",
    "print('Training Data:', rfc4.score(X_train, y_train)) # Training data accuracy score \n",
    "print('Test Data:', rfc4.score(X_test, y_test))       # Test data accuracy score \n",
    "\n",
    "# Printing out an oob_score to double-check how good the model is\n",
    "print('Out of Bag Score:', rfc4.oob_score_)\n",
    "\n",
    "# Doublechecking with KFold cross-validation\n",
    "scores = cross_val_score(rfc4, X, y, cv = kf)\n",
    "print('Cross-Validation With 10-Fold Split Scores:', scores)\n",
    "print('Cross-Validation With 10-Fold Split Average Score:', scores.mean())"
   ]
  },
  {
   "cell_type": "markdown",
   "metadata": {},
   "source": [
    "<hr>\n",
    "<strong>Observation:</strong> Tuning seems to have increased the test set accuracy scores slightly.\n",
    "<hr>"
   ]
  },
  {
   "cell_type": "markdown",
   "metadata": {},
   "source": [
    "<h4>5.4 Training Model with 100% Data</h4>"
   ]
  },
  {
   "cell_type": "markdown",
   "metadata": {},
   "source": [
    "I decided to try training with 100% of the data because adding more data is one way to decrease variance. I will use a cross-val score and oob-scores to check accuracy."
   ]
  },
  {
   "cell_type": "code",
   "execution_count": 36,
   "metadata": {},
   "outputs": [
    {
     "name": "stdout",
     "output_type": "stream",
     "text": [
      "Full Dataset Accuracy: 1.0\n",
      "Full Dataset Out of Bag Error Score: 0.7132522702785902\n",
      "Cross-Validation With 10-Fold Split Scores: [0.68153846 0.69230769 0.69538462 0.69846154 0.69230769 0.71230769\n",
      " 0.70615385 0.70570108 0.67488444 0.73805855]\n",
      "Cross-Validation With 10-Fold Split Average Score: 0.6997105606258148\n"
     ]
    }
   ],
   "source": [
    "# Creating a Random Forest Classifier model instance with the tuned parameters and fitting the training data to it\n",
    "rfc6 = RandomForestClassifier(n_estimators = 100, max_features = 1, min_samples_leaf = 1, max_depth = 140, oob_score = True)\n",
    "rfc6.fit(X, y)\n",
    "\n",
    "# Evaluating the model \n",
    "print('Full Dataset Accuracy:', rfc6.score(X, y)) \n",
    "print('Full Dataset Out of Bag Error Score:', rfc6.oob_score_)\n",
    "\n",
    "# Doublechecking model performance with a 5Fold Cross-Validation Score\n",
    "scores = cross_val_score(rfc6, X, y, cv = kf)\n",
    "print('Cross-Validation With 10-Fold Split Scores:', scores)\n",
    "print('Cross-Validation With 10-Fold Split Average Score:', scores.mean())  "
   ]
  },
  {
   "cell_type": "markdown",
   "metadata": {},
   "source": [
    "<hr>\n",
    "<strong>Observation:</strong> The OOB score has increased when I train the model on the entire dataset but the cross-val score remains the same. This model has the lowest variance thus far and I will use this to further tune the model.\n",
    "<hr>"
   ]
  },
  {
   "cell_type": "markdown",
   "metadata": {},
   "source": [
    "<h4>5.5 Feature Engineering</h4>"
   ]
  },
  {
   "cell_type": "markdown",
   "metadata": {},
   "source": [
    "<strong>5.5.1 Ranking Feature Importances</strong>"
   ]
  },
  {
   "cell_type": "code",
   "execution_count": 37,
   "metadata": {},
   "outputs": [],
   "source": [
    "# Using rfc6 from Section 5.4 to rank feature importances and obtain the indices and feature names in order to plot them\n",
    "\n",
    "feat_importances = rfc6.feature_importances_                                # creating a feature importances array\n",
    "sorted_feat_importances_worst_first = np.sort(feat_importances)             # sorting the values of the feature importances\n",
    "ranked_feature_indices_worst_first = feat_importances.argsort()             # obtaining the indices of the sorted importances\n",
    "ranked_features_worst_first = X.columns[ranked_feature_indices_worst_first] # obtaining the strings corresponding to the indices"
   ]
  },
  {
   "cell_type": "code",
   "execution_count": 38,
   "metadata": {},
   "outputs": [
    {
     "name": "stdout",
     "output_type": "stream",
     "text": [
      "Index(['fixed acidity', 'pH', 'free sulfur dioxide', 'residual sugar',\n",
      "       'citric acid', 'sulphates', 'chlorides', 'total sulfur dioxide',\n",
      "       'volatile acidity', 'density', 'alcohol'],\n",
      "      dtype='object')\n"
     ]
    }
   ],
   "source": [
    "print(ranked_features_worst_first) # print the list of features from lowest importance to highest"
   ]
  },
  {
   "cell_type": "code",
   "execution_count": 39,
   "metadata": {},
   "outputs": [
    {
     "data": {
      "text/html": [
       "<div>\n",
       "<style scoped>\n",
       "    .dataframe tbody tr th:only-of-type {\n",
       "        vertical-align: middle;\n",
       "    }\n",
       "\n",
       "    .dataframe tbody tr th {\n",
       "        vertical-align: top;\n",
       "    }\n",
       "\n",
       "    .dataframe thead th {\n",
       "        text-align: right;\n",
       "    }\n",
       "</style>\n",
       "<table border=\"1\" class=\"dataframe\">\n",
       "  <thead>\n",
       "    <tr style=\"text-align: right;\">\n",
       "      <th></th>\n",
       "      <th>Importances Score</th>\n",
       "    </tr>\n",
       "    <tr>\n",
       "      <th>Feature</th>\n",
       "      <th></th>\n",
       "    </tr>\n",
       "  </thead>\n",
       "  <tbody>\n",
       "    <tr>\n",
       "      <th>fixed acidity</th>\n",
       "      <td>0.079264</td>\n",
       "    </tr>\n",
       "    <tr>\n",
       "      <th>pH</th>\n",
       "      <td>0.083688</td>\n",
       "    </tr>\n",
       "    <tr>\n",
       "      <th>free sulfur dioxide</th>\n",
       "      <td>0.085096</td>\n",
       "    </tr>\n",
       "    <tr>\n",
       "      <th>residual sugar</th>\n",
       "      <td>0.085110</td>\n",
       "    </tr>\n",
       "    <tr>\n",
       "      <th>citric acid</th>\n",
       "      <td>0.085351</td>\n",
       "    </tr>\n",
       "    <tr>\n",
       "      <th>sulphates</th>\n",
       "      <td>0.087715</td>\n",
       "    </tr>\n",
       "    <tr>\n",
       "      <th>chlorides</th>\n",
       "      <td>0.089674</td>\n",
       "    </tr>\n",
       "    <tr>\n",
       "      <th>total sulfur dioxide</th>\n",
       "      <td>0.090145</td>\n",
       "    </tr>\n",
       "    <tr>\n",
       "      <th>volatile acidity</th>\n",
       "      <td>0.096766</td>\n",
       "    </tr>\n",
       "    <tr>\n",
       "      <th>density</th>\n",
       "      <td>0.106590</td>\n",
       "    </tr>\n",
       "    <tr>\n",
       "      <th>alcohol</th>\n",
       "      <td>0.110601</td>\n",
       "    </tr>\n",
       "  </tbody>\n",
       "</table>\n",
       "</div>"
      ],
      "text/plain": [
       "                      Importances Score\n",
       "Feature                                \n",
       "fixed acidity                  0.079264\n",
       "pH                             0.083688\n",
       "free sulfur dioxide            0.085096\n",
       "residual sugar                 0.085110\n",
       "citric acid                    0.085351\n",
       "sulphates                      0.087715\n",
       "chlorides                      0.089674\n",
       "total sulfur dioxide           0.090145\n",
       "volatile acidity               0.096766\n",
       "density                        0.106590\n",
       "alcohol                        0.110601"
      ]
     },
     "execution_count": 39,
     "metadata": {},
     "output_type": "execute_result"
    }
   ],
   "source": [
    "# Combining all the lists into a DataFrame for easier viewing; setting the feature name column as the index for the df\n",
    "df2 = pd.DataFrame({'Feature':ranked_features_worst_first, 'Importances Score': sorted_feat_importances_worst_first})\n",
    "df2.set_index ('Feature', inplace = True) \n",
    "df2"
   ]
  },
  {
   "cell_type": "markdown",
   "metadata": {},
   "source": [
    "<strong>5.5.2 Plotting the Feature Importances</strong>"
   ]
  },
  {
   "cell_type": "code",
   "execution_count": 40,
   "metadata": {},
   "outputs": [
    {
     "data": {
      "image/png": "[encoded data removed]",
      "text/plain": [
       "<Figure size 864x576 with 1 Axes>"
      ]
     },
     "metadata": {
      "needs_background": "light"
     },
     "output_type": "display_data"
    }
   ],
   "source": [
    "ax3 = df2.plot(kind = 'bar', figsize = (12,8), legend = False, color = 'green')\n",
    "ax3.set_ylabel('Importances Score', fontsize='xx-large')\n",
    "ax3.set_xlabel('Feature', fontsize='xx-large');"
   ]
  },
  {
   "cell_type": "markdown",
   "metadata": {},
   "source": [
    "<hr>\n",
    "<strong>Observation:</strong> This ranking of features seems to make sense based on the correlation heatmap created during EDA: Alcohol and density had the strongest correlation with the quality score (though in absolute terms, they were weak correlations). \n",
    "<hr>"
   ]
  },
  {
   "cell_type": "markdown",
   "metadata": {},
   "source": [
    "<strong>5.5.3 Tuning Model By Dropping Features</strong>"
   ]
  },
  {
   "cell_type": "code",
   "execution_count": 41,
   "metadata": {},
   "outputs": [],
   "source": [
    "# Creating a function with the parameter-tuned model to use in testing various combinations of features. \n",
    "\n",
    "def return_model_scores (X, y):\n",
    "    # Creating a Random Forest Classifier model instance with the tuned parameters and fitting the training data to it\n",
    "    rfc7 = RandomForestClassifier(n_estimators = 100, max_features = 1, min_samples_leaf = 1, max_depth = 140, oob_score = True)\n",
    "    rfc7.fit(X, y)\n",
    "\n",
    "    # Obtaining 5Fold Cross-Validation Score\n",
    "    kf = KFold(n_splits = 5, shuffle=True)\n",
    "    scores = cross_val_score(rfc6, X, y, cv = kf)\n",
    "        \n",
    "    # Return scores\n",
    "    return rfc7.score(X,y), rfc7.oob_score_, scores.mean()"
   ]
  },
  {
   "cell_type": "code",
   "execution_count": 42,
   "metadata": {},
   "outputs": [],
   "source": [
    "### Code that will drop features one at a time worst-to-best and check the model scores for each iteration\n",
    "\n",
    "# Creating a list of ranked features to iterate through\n",
    "ranked_features_worst_first = list(ranked_features_worst_first)\n",
    "\n",
    "# Creating lists to hold the dropped features and the returned scores for each additional dropped feature\n",
    "dropped_features = []\n",
    "accuracy_scores = []\n",
    "oob_scores = []\n",
    "cross_val_scores = []\n",
    "\n",
    "# Initializing a new dataframe X_modified to use in for-loop so original X remains untouched\n",
    "X_modified = X\n",
    "\n",
    "# Using a for-loop to drop features one at a time from bottom of the list and check the model scores\n",
    "\n",
    "for feature in ranked_features_worst_first:\n",
    "    X_modified = X_modified.drop(feature, axis = 1)              # drop another feature from X_modified at each iteration of for-loop\n",
    "    if len(X_modified.columns) == 0:                             # end for-loop when all features have been dropped\n",
    "        break\n",
    "    dropped_features.append(feature)                             # keep track of which feature is dropped by appending to a list\n",
    "    acc, oob, cross = return_model_scores (X_modified, y)        # obtain scores from return_model_scores function\n",
    "    accuracy_scores.append(acc)                                  # append the scores to the three lists\n",
    "    oob_scores.append(oob)\n",
    "    cross_val_scores.append(cross)\n",
    "    \n",
    "\n",
    "# Combining all the lists into a DataFrame for easier viewing; setting the dropped_features column as the index for the df\n",
    "df3 = pd.DataFrame({'(Additional) Dropped Feature':dropped_features, \n",
    "                    'Model Accuracy Scores': accuracy_scores, \n",
    "                    'Model OOB Scores': oob_scores,\n",
    "                    'Model Cross-Val Scores':cross_val_scores\n",
    "                   })\n",
    "df3.set_index ('(Additional) Dropped Feature', inplace = True) "
   ]
  },
  {
   "cell_type": "code",
   "execution_count": 43,
   "metadata": {},
   "outputs": [
    {
     "data": {
      "text/html": [
       "<div>\n",
       "<style scoped>\n",
       "    .dataframe tbody tr th:only-of-type {\n",
       "        vertical-align: middle;\n",
       "    }\n",
       "\n",
       "    .dataframe tbody tr th {\n",
       "        vertical-align: top;\n",
       "    }\n",
       "\n",
       "    .dataframe thead th {\n",
       "        text-align: right;\n",
       "    }\n",
       "</style>\n",
       "<table border=\"1\" class=\"dataframe\">\n",
       "  <thead>\n",
       "    <tr style=\"text-align: right;\">\n",
       "      <th></th>\n",
       "      <th>Model Accuracy Scores</th>\n",
       "      <th>Model OOB Scores</th>\n",
       "      <th>Model Cross-Val Scores</th>\n",
       "    </tr>\n",
       "    <tr>\n",
       "      <th>(Additional) Dropped Feature</th>\n",
       "      <th></th>\n",
       "      <th></th>\n",
       "      <th></th>\n",
       "    </tr>\n",
       "  </thead>\n",
       "  <tbody>\n",
       "    <tr>\n",
       "      <th>fixed acidity</th>\n",
       "      <td>1.000000</td>\n",
       "      <td>0.706634</td>\n",
       "      <td>0.692631</td>\n",
       "    </tr>\n",
       "    <tr>\n",
       "      <th>pH</th>\n",
       "      <td>1.000000</td>\n",
       "      <td>0.710328</td>\n",
       "      <td>0.692627</td>\n",
       "    </tr>\n",
       "    <tr>\n",
       "      <th>free sulfur dioxide</th>\n",
       "      <td>1.000000</td>\n",
       "      <td>0.701401</td>\n",
       "      <td>0.686162</td>\n",
       "    </tr>\n",
       "    <tr>\n",
       "      <th>residual sugar</th>\n",
       "      <td>1.000000</td>\n",
       "      <td>0.695552</td>\n",
       "      <td>0.677546</td>\n",
       "    </tr>\n",
       "    <tr>\n",
       "      <th>citric acid</th>\n",
       "      <td>1.000000</td>\n",
       "      <td>0.702632</td>\n",
       "      <td>0.680158</td>\n",
       "    </tr>\n",
       "    <tr>\n",
       "      <th>sulphates</th>\n",
       "      <td>1.000000</td>\n",
       "      <td>0.692012</td>\n",
       "      <td>0.667078</td>\n",
       "    </tr>\n",
       "    <tr>\n",
       "      <th>chlorides</th>\n",
       "      <td>0.999846</td>\n",
       "      <td>0.684162</td>\n",
       "      <td>0.657379</td>\n",
       "    </tr>\n",
       "    <tr>\n",
       "      <th>total sulfur dioxide</th>\n",
       "      <td>0.993997</td>\n",
       "      <td>0.655841</td>\n",
       "      <td>0.641527</td>\n",
       "    </tr>\n",
       "    <tr>\n",
       "      <th>volatile acidity</th>\n",
       "      <td>0.885640</td>\n",
       "      <td>0.577189</td>\n",
       "      <td>0.557182</td>\n",
       "    </tr>\n",
       "    <tr>\n",
       "      <th>density</th>\n",
       "      <td>0.523780</td>\n",
       "      <td>0.517008</td>\n",
       "      <td>0.515930</td>\n",
       "    </tr>\n",
       "  </tbody>\n",
       "</table>\n",
       "</div>"
      ],
      "text/plain": [
       "                              Model Accuracy Scores  Model OOB Scores  \\\n",
       "(Additional) Dropped Feature                                            \n",
       "fixed acidity                              1.000000          0.706634   \n",
       "pH                                         1.000000          0.710328   \n",
       "free sulfur dioxide                        1.000000          0.701401   \n",
       "residual sugar                             1.000000          0.695552   \n",
       "citric acid                                1.000000          0.702632   \n",
       "sulphates                                  1.000000          0.692012   \n",
       "chlorides                                  0.999846          0.684162   \n",
       "total sulfur dioxide                       0.993997          0.655841   \n",
       "volatile acidity                           0.885640          0.577189   \n",
       "density                                    0.523780          0.517008   \n",
       "\n",
       "                              Model Cross-Val Scores  \n",
       "(Additional) Dropped Feature                          \n",
       "fixed acidity                               0.692631  \n",
       "pH                                          0.692627  \n",
       "free sulfur dioxide                         0.686162  \n",
       "residual sugar                              0.677546  \n",
       "citric acid                                 0.680158  \n",
       "sulphates                                   0.667078  \n",
       "chlorides                                   0.657379  \n",
       "total sulfur dioxide                        0.641527  \n",
       "volatile acidity                            0.557182  \n",
       "density                                     0.515930  "
      ]
     },
     "execution_count": 43,
     "metadata": {},
     "output_type": "execute_result"
    }
   ],
   "source": [
    "# Viewing how scores change as additional features are dropped from the data\n",
    "df3"
   ]
  },
  {
   "cell_type": "markdown",
   "metadata": {},
   "source": [
    "<hr>\n",
    "<strong>Observation:</strong> Unfortunately, dropping any features decreases all three of the scores so dropping features is not a good option. \n",
    "<hr>"
   ]
  },
  {
   "cell_type": "markdown",
   "metadata": {},
   "source": [
    "<strong>5.5.4 Tuning Model By Transforming Features</strong>"
   ]
  },
  {
   "cell_type": "markdown",
   "metadata": {},
   "source": [
    "After trying various polynomial transformations including adding the logarithm or quadratic values of skewed variables, I concluded that none of them decreased the variance/increased the test set or cross-val scores."
   ]
  },
  {
   "cell_type": "markdown",
   "metadata": {},
   "source": [
    "<h2>6. Conclusion</h2>"
   ]
  },
  {
   "cell_type": "markdown",
   "metadata": {},
   "source": [
    "Despite tuning the parameters of the Random Forest Classifier and feature engineering, the model variance did not significantly decrease. The best model has a 70% accuracy for predictive modeling of test data. This is still higher than the null model score of 44%. The only way to increase test scores/decrease variance with this dataset seems to be to collect more data. The best model I was able to obtain is below:"
   ]
  },
  {
   "cell_type": "code",
   "execution_count": 44,
   "metadata": {},
   "outputs": [
    {
     "name": "stdout",
     "output_type": "stream",
     "text": [
      "Full Dataset Accuracy: 1.0\n",
      "Full Dataset Out of Bag Error Score: 0.7103278436201323\n",
      "Cross-Validation With 10-Fold Split Scores: [0.70153846 0.71076923 0.71538462 0.69230769 0.69384615 0.69230769\n",
      " 0.68923077 0.7164869  0.69029276 0.72265023]\n",
      "Cross-Validation With 10-Fold Split Average Score: 0.7024814507526371\n"
     ]
    }
   ],
   "source": [
    "# Splitting columns into target and features\n",
    "target_col = 'quality'\n",
    "feature_cols = df_all.columns.drop('quality')  # using all features optimized the accuracy scores\n",
    "\n",
    "# Creating a dataframe of features (X) and a series of target values (y)\n",
    "X = df_all.loc[:,feature_cols]\n",
    "y = df_all.loc[:,target_col]\n",
    "\n",
    "rfc_final = RandomForestClassifier(n_estimators = 100, max_features = 1, min_samples_leaf = 1, max_depth = 140, oob_score = True)\n",
    "rfc_final.fit(X, y)\n",
    "\n",
    "# Evaluating the model \n",
    "print('Full Dataset Accuracy:', rfc_final.score(X, y)) \n",
    "print('Full Dataset Out of Bag Error Score:', rfc_final.oob_score_)\n",
    "\n",
    "# Doublechecking model performance with a 5Fold Cross-Validation Score\n",
    "scores = cross_val_score(rfc_final, X, y, cv = kf)\n",
    "print('Cross-Validation With 10-Fold Split Scores:', scores)\n",
    "print('Cross-Validation With 10-Fold Split Average Score:', scores.mean())"
   ]
  }
 ],
 "metadata": {
  "kernelspec": {
   "display_name": "Python 3",
   "language": "python",
   "name": "python3"
  },
  "language_info": {
   "codemirror_mode": {
    "name": "ipython",
    "version": 3
   },
   "file_extension": ".py",
   "mimetype": "text/x-python",
   "name": "python",
   "nbconvert_exporter": "python",
   "pygments_lexer": "ipython3",
   "version": "3.7.2"
  }
 },
 "nbformat": 4,
 "nbformat_minor": 2
}
